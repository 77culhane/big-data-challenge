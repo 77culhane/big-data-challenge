{
 "cells": [
  {
   "cell_type": "code",
   "execution_count": null,
   "metadata": {},
   "outputs": [],
   "source": [
    "%md\n",
    "## Get the data from AWS's endpoint"
   ]
  },
  {
   "cell_type": "code",
   "execution_count": null,
   "metadata": {},
   "outputs": [],
   "source": [
    "%pyspark\n",
    "from pyspark import SparkFiles\n",
    "endpoint = \"https://s3.amazonaws.com/amazon-reviews-pds/tsv/amazon_reviews_us_Musical_Instruments_v1_00.tsv.gz\"\n",
    "spark.sparkContext.addFile(endpoint)\n",
    "df = spark.read.csv(SparkFiles.get(\"amazon_reviews_us_Musical_Instruments_v1_00.tsv.gz\"), sep=\"\\t\", header=True)\n",
    "df.show()"
   ]
  },
  {
   "cell_type": "code",
   "execution_count": null,
   "metadata": {},
   "outputs": [],
   "source": [
    "%pyspark\n",
    "# Show the columns\n",
    "df.columns"
   ]
  },
  {
   "cell_type": "code",
   "execution_count": null,
   "metadata": {},
   "outputs": [],
   "source": [
    "%md\n",
    "## Transformations"
   ]
  },
  {
   "cell_type": "code",
   "execution_count": null,
   "metadata": {},
   "outputs": [],
   "source": [
    "%pyspark\n",
    "from pyspark.sql.functions import to_date\n",
    "# Review DataFrame\n",
    "new_date_df = df.select([\"review_id\", to_date(\"review_date\", 'yyyy-MM-dd').alias(\"review_date\")])\n",
    "new_date_df.show()"
   ]
  },
  {
   "cell_type": "code",
   "execution_count": null,
   "metadata": {},
   "outputs": [],
   "source": [
    "%pyspark\n",
    "import pandas as pd\n",
    "pandas_df = df.toPandas() \n",
    "pandas_date_df = new_date_df.toPandas()"
   ]
  },
  {
   "cell_type": "code",
   "execution_count": null,
   "metadata": {},
   "outputs": [],
   "source": [
    "%pyspark\n",
    "import pandas as pd\n",
    "# REVIEW_ID_TABLE_DF\n",
    "review_id_table_df1 = pandas_df[['review_id', 'customer_id', 'product_id', 'product_parent']]\n",
    "review_id_table_df = pd.merge(review_id_table_df1, pandas_date_df, how=\"left\", on=[\"review_id\", \"review_id\"])\n",
    "\n",
    "# PRODUCTS_DF\n",
    "products_df = pandas_df[['product_id', 'product_title']]\n",
    "products_df = products_df.drop_duplicates().reset_index()\n",
    "\n",
    "# CUSTOMERS_DF\n",
    "customers_df = pandas_df[['customer_id']]\n",
    "customer_count = customers_df[\"customer_id\"].value_counts()\n",
    "customers_df = pd.DataFrame({\"customer_count\": customer_count})\n",
    "customers_df = customers_df.reset_index()\n",
    "customers_df = customers_df.rename(columns={\"index\": \"customer_id\"})\n",
    "\n",
    "# VINE_TABLE_DF\n",
    "vine_table_df = pandas_df[['review_id', 'star_rating', 'helpful_votes', 'total_votes', 'vine']]"
   ]
  },
  {
   "cell_type": "code",
   "execution_count": null,
   "metadata": {},
   "outputs": [],
   "source": [
    "%pyspark\n",
    "review_id_table_spdf = spark.createDataFrame(review_id_table_df)\n",
    "products_spdf = spark.createDataFrame(products_df)\n",
    "customers_spdf = spark.createDataFrame(customers_df)\n",
    "vine_table_spdf = spark.createDataFrame(vine_table_df)"
   ]
  },
  {
   "cell_type": "code",
   "execution_count": null,
   "metadata": {},
   "outputs": [],
   "source": [
    "%md\n",
    "# Upload to AWS"
   ]
  },
  {
   "cell_type": "code",
   "execution_count": null,
   "metadata": {},
   "outputs": [],
   "source": [
    "%pyspark\n",
    "from config import remote_db_endpoint, remote_db_port, remote_gwsis_dbname, remote_gwsis_dbuser, remote_gwsis_dbpwd\n",
    "mode = \"append\"\n",
    "jdbc_url=f\"jdbc:postgresql:{remote_db_endpoint}//:5432/my_data_class_db\"\n",
    "config = {\"user\": remote_gwsis_dbuser, \"password\": remote_gwsis_dbpwd, \"driver\":\"org.postgresql.Driver\"}\n",
    "review_id_table_spdf.write.jdbc(url=jdbc_url, table='review_id_table', mode=mode, properties=config)\n",
    "products_spdf.write.jdbc(url=jdbc_url, table='products', mode=mode, properties=config)\n",
    "customers_spdf.write.jdbc(url=jdbc_url, table='customers', mode=mode, properties=config)\n",
    "vine_table_spdf.write.jdbc(url=jdbc_url, table='vine_table', mode=mode, properties=config)"
   ]
  }
 ],
 "metadata": {
  "kernelspec": {
   "display_name": "Python 3",
   "language": "python",
   "name": "python3"
  },
  "language_info": {
   "codemirror_mode": {
    "name": "ipython",
    "version": 3
   },
   "file_extension": ".py",
   "mimetype": "text/x-python",
   "name": "python",
   "nbconvert_exporter": "python",
   "pygments_lexer": "ipython3",
   "version": "3.7.3"
  }
 },
 "nbformat": 4,
 "nbformat_minor": 4
}
